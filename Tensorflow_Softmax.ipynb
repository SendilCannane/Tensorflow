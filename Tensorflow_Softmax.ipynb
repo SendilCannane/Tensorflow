{
  "nbformat": 4,
  "nbformat_minor": 0,
  "metadata": {
    "colab": {
      "name": "Tensorflow_Softmax.ipynb",
      "version": "0.3.2",
      "provenance": [],
      "include_colab_link": true
    },
    "kernelspec": {
      "name": "python3",
      "display_name": "Python 3"
    }
  },
  "cells": [
    {
      "cell_type": "markdown",
      "metadata": {
        "id": "view-in-github",
        "colab_type": "text"
      },
      "source": [
        "[View in Colaboratory](https://colab.research.google.com/github/SendilCannane/Tensorflow/blob/master/Tensorflow_Softmax.ipynb)"
      ]
    },
    {
      "metadata": {
        "id": "A6LlYTgNIuOc",
        "colab_type": "code",
        "colab": {
          "base_uri": "https://localhost:8080/",
          "height": 87
        },
        "outputId": "574d3a1c-0d75-4cdf-f1fc-153df513d1dd"
      },
      "cell_type": "code",
      "source": [
        "import tensorflow as tf\n",
        "import numpy as np\n",
        "\n",
        "sess = tf.Session()\n",
        "\n",
        "# Create example y_hat.\n",
        "y_hat = tf.convert_to_tensor(np.array([[0.5, 0.1, 1.5],[2.2, 1.3, 1.7],[0.6, 1.2, 0.4],[2.6, 0.8, 1.7]]))\n",
        "sess.run(y_hat)"
      ],
      "execution_count": 8,
      "outputs": [
        {
          "output_type": "execute_result",
          "data": {
            "text/plain": [
              "array([[0.5, 0.1, 1.5],\n",
              "       [2.2, 1.3, 1.7],\n",
              "       [0.6, 1.2, 0.4],\n",
              "       [2.6, 0.8, 1.7]])"
            ]
          },
          "metadata": {
            "tags": []
          },
          "execution_count": 8
        }
      ]
    },
    {
      "metadata": {
        "id": "Ep6YR_PZI1MO",
        "colab_type": "code",
        "colab": {
          "base_uri": "https://localhost:8080/",
          "height": 87
        },
        "outputId": "deb383aa-1716-4c76-ca08-7059e0b94734"
      },
      "cell_type": "code",
      "source": [
        "y_hat_softmax = tf.nn.softmax(y_hat)\n",
        "sess.run(y_hat_softmax)"
      ],
      "execution_count": 9,
      "outputs": [
        {
          "output_type": "execute_result",
          "data": {
            "text/plain": [
              "array([[0.227863  , 0.15274114, 0.61939586],\n",
              "       [0.49674623, 0.20196195, 0.30129182],\n",
              "       [0.27466117, 0.50046528, 0.22487355],\n",
              "       [0.63618551, 0.10516076, 0.25865373]])"
            ]
          },
          "metadata": {
            "tags": []
          },
          "execution_count": 9
        }
      ]
    },
    {
      "metadata": {
        "id": "-tSwBXc3I83U",
        "colab_type": "code",
        "colab": {
          "base_uri": "https://localhost:8080/",
          "height": 35
        },
        "outputId": "cd4c6bde-82f2-455d-9cb3-0f302c3722fe"
      },
      "cell_type": "code",
      "source": [
        "y_pred_cls = tf.argmax(y_hat_softmax, axis=1)\n",
        "sess.run(y_pred_cls)"
      ],
      "execution_count": 10,
      "outputs": [
        {
          "output_type": "execute_result",
          "data": {
            "text/plain": [
              "array([2, 0, 1, 0])"
            ]
          },
          "metadata": {
            "tags": []
          },
          "execution_count": 10
        }
      ]
    }
  ]
}