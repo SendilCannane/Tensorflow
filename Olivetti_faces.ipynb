{
  "nbformat": 4,
  "nbformat_minor": 0,
  "metadata": {
    "colab": {
      "name": "Olivetti_faces.ipynb",
      "version": "0.3.2",
      "provenance": [],
      "collapsed_sections": [],
      "include_colab_link": true
    },
    "kernelspec": {
      "name": "python3",
      "display_name": "Python 3"
    }
  },
  "cells": [
    {
      "cell_type": "markdown",
      "metadata": {
        "id": "view-in-github",
        "colab_type": "text"
      },
      "source": [
        "[View in Colaboratory](https://colab.research.google.com/github/SendilCannane/Tensorflow/blob/master/Olivetti_faces.ipynb)"
      ]
    },
    {
      "metadata": {
        "id": "WAxah5pYb6Rp",
        "colab_type": "code",
        "colab": {}
      },
      "cell_type": "code",
      "source": [
        "from __future__ import print_function\n",
        "\n",
        "import numpy as np\n",
        "from sklearn import datasets, neighbors, linear_model, tree\n",
        "from sklearn.decomposition import PCA\n",
        "from sklearn.datasets import fetch_olivetti_faces\n",
        "from sklearn.cross_validation import train_test_split\n",
        "from sklearn.decomposition import RandomizedPCA\n",
        "from sklearn.metrics import classification_report\n",
        "from sklearn.metrics import confusion_matrix\n",
        "\n",
        "import matplotlib.pyplot as plt\n",
        "from time import time\n",
        "%matplotlib inline\n",
        "\n",
        "import tensorflow as tf"
      ],
      "execution_count": 0,
      "outputs": []
    },
    {
      "metadata": {
        "id": "I2HtMQljd8qP",
        "colab_type": "code",
        "colab": {
          "base_uri": "https://localhost:8080/",
          "height": 35
        },
        "outputId": "3421a3dc-acc6-44da-cc2e-94db6372c862"
      },
      "cell_type": "code",
      "source": [
        "# Load the faces dataset\n",
        "#data = np.load(\"input/oliver\")\n",
        "faces_data = fetch_olivetti_faces()"
      ],
      "execution_count": 3,
      "outputs": [
        {
          "output_type": "stream",
          "text": [
            "downloading Olivetti faces from https://ndownloader.figshare.com/files/5976027 to /root/scikit_learn_data\n"
          ],
          "name": "stdout"
        }
      ]
    },
    {
      "metadata": {
        "id": "kTWV5LGzmPlB",
        "colab_type": "code",
        "colab": {
          "base_uri": "https://localhost:8080/",
          "height": 121
        },
        "outputId": "1a083220-b795-4241-de6a-397413840e77"
      },
      "cell_type": "code",
      "source": [
        "n_samples, height, width = faces_data.images.shape\n",
        "X = faces_data.data\n",
        "n_features = X.shape[1]\n",
        "y = faces_data.target\n",
        "n_classes = int(max(y)+1)\n",
        "\n",
        "print(\"Number of samples: {}, \\nHeight of each image: {}, \\nWidth of each image: {}, \\nNumber of input features: {},\\nNumber of output classes: {}\\n\"\n",
        "                                               .format(n_samples,height,width,n_features,n_classes))"
      ],
      "execution_count": 30,
      "outputs": [
        {
          "output_type": "stream",
          "text": [
            "Number of samples: 400, \n",
            "Height of each image: 64, \n",
            "Width of each image: 64, \n",
            "Number of input features: 4096,\n",
            "Number of output classes: 40\n",
            "\n"
          ],
          "name": "stdout"
        }
      ]
    },
    {
      "metadata": {
        "id": "Fel_pXV4ws4A",
        "colab_type": "code",
        "colab": {}
      },
      "cell_type": "code",
      "source": [
        ""
      ],
      "execution_count": 0,
      "outputs": []
    },
    {
      "metadata": {
        "id": "lIDK39myriRS",
        "colab_type": "code",
        "colab": {
          "base_uri": "https://localhost:8080/",
          "height": 35
        },
        "outputId": "a4634ec4-7640-45e6-fcdc-65805466e28c"
      },
      "cell_type": "code",
      "source": [
        "faces_data.data.size"
      ],
      "execution_count": 26,
      "outputs": [
        {
          "output_type": "execute_result",
          "data": {
            "text/plain": [
              "1638400"
            ]
          },
          "metadata": {
            "tags": []
          },
          "execution_count": 26
        }
      ]
    },
    {
      "metadata": {
        "id": "eJoU0GLUmV_U",
        "colab_type": "code",
        "colab": {
          "base_uri": "https://localhost:8080/",
          "height": 249
        },
        "outputId": "d33087b5-84d1-47c8-c425-e44334e9be41"
      },
      "cell_type": "code",
      "source": [
        "firstImage = faces_data.images[5]\n",
        "plt.imshow(firstImage, cmap=plt.cm.gray)\n",
        "plt.xticks(())\n",
        "plt.yticks(())\n",
        "plt.show()"
      ],
      "execution_count": 25,
      "outputs": [
        {
          "output_type": "display_data",
          "data": {
            "image/png": "[encoded data removed]",
            "text/plain": [
              "<matplotlib.figure.Figure at 0x7f04ba933b70>"
            ]
          },
          "metadata": {
            "tags": []
          }
        }
      ]
    },
    {
      "metadata": {
        "id": "z4TNKI7ZAfbM",
        "colab_type": "code",
        "colab": {
          "base_uri": "https://localhost:8080/",
          "height": 35
        },
        "outputId": "05f61413-8a89-4b69-9347-bd2202767ebf"
      },
      "cell_type": "code",
      "source": [
        "X_train,X_test,y_train,y_test = train_test_split(X,y,test_size=0.20,random_state = 0)\n",
        "\n",
        "X_train.shape,y_train.shape,X_test.shape,y_test.shape\n",
        "\n"
      ],
      "execution_count": 40,
      "outputs": [
        {
          "output_type": "execute_result",
          "data": {
            "text/plain": [
              "((320, 4096), (320,), (80, 4096), (80,))"
            ]
          },
          "metadata": {
            "tags": []
          },
          "execution_count": 40
        }
      ]
    },
    {
      "metadata": {
        "id": "fwlUzYZsPOYK",
        "colab_type": "code",
        "colab": {
          "base_uri": "https://localhost:8080/",
          "height": 243
        },
        "outputId": "801f31e4-3d17-477d-be05-8e0330ba9e9d"
      },
      "cell_type": "code",
      "source": [
        "X_train"
      ],
      "execution_count": 41,
      "outputs": [
        {
          "output_type": "execute_result",
          "data": {
            "text/plain": [
              "array([[0.46694216, 0.4752066 , 0.45454547, ..., 0.6694215 , 0.6735537 ,\n",
              "        0.6570248 ],\n",
              "       [0.25619835, 0.2231405 , 0.28099173, ..., 0.3181818 , 0.30165288,\n",
              "        0.28512397],\n",
              "       [0.6570248 , 0.6487603 , 0.6528926 , ..., 0.677686  , 0.59090906,\n",
              "        0.6983471 ],\n",
              "       ...,\n",
              "       [0.55785125, 0.60330576, 0.6570248 , ..., 0.17768595, 0.20661157,\n",
              "        0.19421488],\n",
              "       [0.5206612 , 0.5206612 , 0.53305787, ..., 0.46694216, 0.43801653,\n",
              "        0.43801653],\n",
              "       [0.3966942 , 0.3677686 , 0.3429752 , ..., 0.37190083, 0.26859504,\n",
              "        0.29752067]], dtype=float32)"
            ]
          },
          "metadata": {
            "tags": []
          },
          "execution_count": 41
        }
      ]
    },
    {
      "metadata": {
        "id": "-Sjk0rV5Q-oQ",
        "colab_type": "code",
        "colab": {}
      },
      "cell_type": "code",
      "source": [
        ""
      ],
      "execution_count": 0,
      "outputs": []
    },
    {
      "metadata": {
        "id": "y8GrN2PJQOk5",
        "colab_type": "code",
        "colab": {
          "base_uri": "https://localhost:8080/",
          "height": 347
        },
        "outputId": "bbc7a31e-fc0d-4735-f201-7a22e2f279f7"
      },
      "cell_type": "code",
      "source": [
        "y_train"
      ],
      "execution_count": 42,
      "outputs": [
        {
          "output_type": "execute_result",
          "data": {
            "text/plain": [
              "array([33,  6,  5, 10, 30, 22, 12, 37, 39, 32, 38, 25,  5,  0, 19, 14, 13,\n",
              "       39, 26, 36, 25,  6, 31, 15, 28, 34,  8, 34, 15, 29,  9,  8, 29,  2,\n",
              "       36, 21, 25,  4, 23, 34,  9, 22, 23, 23, 37, 14,  2, 25, 35, 16, 15,\n",
              "       39,  6, 24, 21, 10, 31, 19, 32,  1, 16, 18,  3, 11, 26, 10, 35, 24,\n",
              "       23, 11, 33, 12, 28, 11, 21, 13, 27, 12, 19, 29, 28, 13,  3, 37, 16,\n",
              "        3, 23,  9,  8,  6, 16, 28, 20, 39, 23, 28, 10,  4, 32, 39, 22,  7,\n",
              "       13, 38, 22, 21,  2, 18, 36, 27,  5, 32, 35,  2,  0, 21, 15, 21, 37,\n",
              "       22, 13, 23, 21, 27, 27, 30, 23,  3, 20, 39,  6,  2, 33,  4, 24, 12,\n",
              "        9, 11, 16, 38, 38, 34,  4,  1, 28,  7, 24, 39,  7,  1, 36, 21, 38,\n",
              "       38, 22, 16, 10, 16,  8, 18, 39, 11, 25, 18, 20, 37, 11, 14, 15, 15,\n",
              "        1, 26,  7, 10, 32, 20, 31, 13, 23, 31, 24, 30,  1, 22, 30,  0, 27,\n",
              "       12,  7, 18, 30, 37, 34, 18, 35,  8, 25,  1, 29,  8, 26,  3, 38,  5,\n",
              "        4, 27,  5, 20, 31, 31, 33, 12, 22,  6, 30, 13, 18,  2,  4,  0, 20,\n",
              "       33,  9, 38, 17, 25,  9, 36,  9, 35, 16,  6, 30,  4, 20, 27, 22, 14,\n",
              "       14, 18, 13, 35, 39, 26, 32, 20,  8, 12, 34, 36,  9,  8, 26, 11, 29,\n",
              "        5, 32, 25, 35,  4, 10, 36, 27, 35,  3,  5, 34, 12, 29,  2, 18, 16,\n",
              "       15, 24, 20,  3,  3, 12, 18, 37, 28, 36, 14, 28, 37, 17,  9, 33, 33,\n",
              "       19, 24, 11, 26,  7, 33,  2, 16, 33, 38, 17, 38,  3, 19, 31,  8,  7,\n",
              "        8, 29, 24, 27, 21,  0, 35, 19, 25, 32, 19, 11,  4, 17])"
            ]
          },
          "metadata": {
            "tags": []
          },
          "execution_count": 42
        }
      ]
    },
    {
      "metadata": {
        "id": "onJnW9z0Ry2w",
        "colab_type": "code",
        "colab": {}
      },
      "cell_type": "code",
      "source": [
        "y_train = y_train.reshape(320,1)\n",
        "y_test = y_test.reshape(80,1)"
      ],
      "execution_count": 0,
      "outputs": []
    },
    {
      "metadata": {
        "id": "jpACcScEST5A",
        "colab_type": "code",
        "colab": {
          "base_uri": "https://localhost:8080/",
          "height": 5564
        },
        "outputId": "374dd581-7e7e-4c38-d4b7-1d160bdf2725"
      },
      "cell_type": "code",
      "source": [
        "y_train"
      ],
      "execution_count": 48,
      "outputs": [
        {
          "output_type": "execute_result",
          "data": {
            "text/plain": [
              "array([[33],\n",
              "       [ 6],\n",
              "       [ 5],\n",
              "       [10],\n",
              "       [30],\n",
              "       [22],\n",
              "       [12],\n",
              "       [37],\n",
              "       [39],\n",
              "       [32],\n",
              "       [38],\n",
              "       [25],\n",
              "       [ 5],\n",
              "       [ 0],\n",
              "       [19],\n",
              "       [14],\n",
              "       [13],\n",
              "       [39],\n",
              "       [26],\n",
              "       [36],\n",
              "       [25],\n",
              "       [ 6],\n",
              "       [31],\n",
              "       [15],\n",
              "       [28],\n",
              "       [34],\n",
              "       [ 8],\n",
              "       [34],\n",
              "       [15],\n",
              "       [29],\n",
              "       [ 9],\n",
              "       [ 8],\n",
              "       [29],\n",
              "       [ 2],\n",
              "       [36],\n",
              "       [21],\n",
              "       [25],\n",
              "       [ 4],\n",
              "       [23],\n",
              "       [34],\n",
              "       [ 9],\n",
              "       [22],\n",
              "       [23],\n",
              "       [23],\n",
              "       [37],\n",
              "       [14],\n",
              "       [ 2],\n",
              "       [25],\n",
              "       [35],\n",
              "       [16],\n",
              "       [15],\n",
              "       [39],\n",
              "       [ 6],\n",
              "       [24],\n",
              "       [21],\n",
              "       [10],\n",
              "       [31],\n",
              "       [19],\n",
              "       [32],\n",
              "       [ 1],\n",
              "       [16],\n",
              "       [18],\n",
              "       [ 3],\n",
              "       [11],\n",
              "       [26],\n",
              "       [10],\n",
              "       [35],\n",
              "       [24],\n",
              "       [23],\n",
              "       [11],\n",
              "       [33],\n",
              "       [12],\n",
              "       [28],\n",
              "       [11],\n",
              "       [21],\n",
              "       [13],\n",
              "       [27],\n",
              "       [12],\n",
              "       [19],\n",
              "       [29],\n",
              "       [28],\n",
              "       [13],\n",
              "       [ 3],\n",
              "       [37],\n",
              "       [16],\n",
              "       [ 3],\n",
              "       [23],\n",
              "       [ 9],\n",
              "       [ 8],\n",
              "       [ 6],\n",
              "       [16],\n",
              "       [28],\n",
              "       [20],\n",
              "       [39],\n",
              "       [23],\n",
              "       [28],\n",
              "       [10],\n",
              "       [ 4],\n",
              "       [32],\n",
              "       [39],\n",
              "       [22],\n",
              "       [ 7],\n",
              "       [13],\n",
              "       [38],\n",
              "       [22],\n",
              "       [21],\n",
              "       [ 2],\n",
              "       [18],\n",
              "       [36],\n",
              "       [27],\n",
              "       [ 5],\n",
              "       [32],\n",
              "       [35],\n",
              "       [ 2],\n",
              "       [ 0],\n",
              "       [21],\n",
              "       [15],\n",
              "       [21],\n",
              "       [37],\n",
              "       [22],\n",
              "       [13],\n",
              "       [23],\n",
              "       [21],\n",
              "       [27],\n",
              "       [27],\n",
              "       [30],\n",
              "       [23],\n",
              "       [ 3],\n",
              "       [20],\n",
              "       [39],\n",
              "       [ 6],\n",
              "       [ 2],\n",
              "       [33],\n",
              "       [ 4],\n",
              "       [24],\n",
              "       [12],\n",
              "       [ 9],\n",
              "       [11],\n",
              "       [16],\n",
              "       [38],\n",
              "       [38],\n",
              "       [34],\n",
              "       [ 4],\n",
              "       [ 1],\n",
              "       [28],\n",
              "       [ 7],\n",
              "       [24],\n",
              "       [39],\n",
              "       [ 7],\n",
              "       [ 1],\n",
              "       [36],\n",
              "       [21],\n",
              "       [38],\n",
              "       [38],\n",
              "       [22],\n",
              "       [16],\n",
              "       [10],\n",
              "       [16],\n",
              "       [ 8],\n",
              "       [18],\n",
              "       [39],\n",
              "       [11],\n",
              "       [25],\n",
              "       [18],\n",
              "       [20],\n",
              "       [37],\n",
              "       [11],\n",
              "       [14],\n",
              "       [15],\n",
              "       [15],\n",
              "       [ 1],\n",
              "       [26],\n",
              "       [ 7],\n",
              "       [10],\n",
              "       [32],\n",
              "       [20],\n",
              "       [31],\n",
              "       [13],\n",
              "       [23],\n",
              "       [31],\n",
              "       [24],\n",
              "       [30],\n",
              "       [ 1],\n",
              "       [22],\n",
              "       [30],\n",
              "       [ 0],\n",
              "       [27],\n",
              "       [12],\n",
              "       [ 7],\n",
              "       [18],\n",
              "       [30],\n",
              "       [37],\n",
              "       [34],\n",
              "       [18],\n",
              "       [35],\n",
              "       [ 8],\n",
              "       [25],\n",
              "       [ 1],\n",
              "       [29],\n",
              "       [ 8],\n",
              "       [26],\n",
              "       [ 3],\n",
              "       [38],\n",
              "       [ 5],\n",
              "       [ 4],\n",
              "       [27],\n",
              "       [ 5],\n",
              "       [20],\n",
              "       [31],\n",
              "       [31],\n",
              "       [33],\n",
              "       [12],\n",
              "       [22],\n",
              "       [ 6],\n",
              "       [30],\n",
              "       [13],\n",
              "       [18],\n",
              "       [ 2],\n",
              "       [ 4],\n",
              "       [ 0],\n",
              "       [20],\n",
              "       [33],\n",
              "       [ 9],\n",
              "       [38],\n",
              "       [17],\n",
              "       [25],\n",
              "       [ 9],\n",
              "       [36],\n",
              "       [ 9],\n",
              "       [35],\n",
              "       [16],\n",
              "       [ 6],\n",
              "       [30],\n",
              "       [ 4],\n",
              "       [20],\n",
              "       [27],\n",
              "       [22],\n",
              "       [14],\n",
              "       [14],\n",
              "       [18],\n",
              "       [13],\n",
              "       [35],\n",
              "       [39],\n",
              "       [26],\n",
              "       [32],\n",
              "       [20],\n",
              "       [ 8],\n",
              "       [12],\n",
              "       [34],\n",
              "       [36],\n",
              "       [ 9],\n",
              "       [ 8],\n",
              "       [26],\n",
              "       [11],\n",
              "       [29],\n",
              "       [ 5],\n",
              "       [32],\n",
              "       [25],\n",
              "       [35],\n",
              "       [ 4],\n",
              "       [10],\n",
              "       [36],\n",
              "       [27],\n",
              "       [35],\n",
              "       [ 3],\n",
              "       [ 5],\n",
              "       [34],\n",
              "       [12],\n",
              "       [29],\n",
              "       [ 2],\n",
              "       [18],\n",
              "       [16],\n",
              "       [15],\n",
              "       [24],\n",
              "       [20],\n",
              "       [ 3],\n",
              "       [ 3],\n",
              "       [12],\n",
              "       [18],\n",
              "       [37],\n",
              "       [28],\n",
              "       [36],\n",
              "       [14],\n",
              "       [28],\n",
              "       [37],\n",
              "       [17],\n",
              "       [ 9],\n",
              "       [33],\n",
              "       [33],\n",
              "       [19],\n",
              "       [24],\n",
              "       [11],\n",
              "       [26],\n",
              "       [ 7],\n",
              "       [33],\n",
              "       [ 2],\n",
              "       [16],\n",
              "       [33],\n",
              "       [38],\n",
              "       [17],\n",
              "       [38],\n",
              "       [ 3],\n",
              "       [19],\n",
              "       [31],\n",
              "       [ 8],\n",
              "       [ 7],\n",
              "       [ 8],\n",
              "       [29],\n",
              "       [24],\n",
              "       [27],\n",
              "       [21],\n",
              "       [ 0],\n",
              "       [35],\n",
              "       [19],\n",
              "       [25],\n",
              "       [32],\n",
              "       [19],\n",
              "       [11],\n",
              "       [ 4],\n",
              "       [17]])"
            ]
          },
          "metadata": {
            "tags": []
          },
          "execution_count": 48
        }
      ]
    },
    {
      "metadata": {
        "id": "cPDtAKO6SeYf",
        "colab_type": "code",
        "colab": {
          "base_uri": "https://localhost:8080/",
          "height": 35
        },
        "outputId": "024b37d8-1860-4f19-efd7-31936a975e3a"
      },
      "cell_type": "code",
      "source": [
        "y_train.dtype,X_test.dtype\n"
      ],
      "execution_count": 53,
      "outputs": [
        {
          "output_type": "execute_result",
          "data": {
            "text/plain": [
              "(dtype('int64'), dtype('float32'))"
            ]
          },
          "metadata": {
            "tags": []
          },
          "execution_count": 53
        }
      ]
    },
    {
      "metadata": {
        "id": "Dx12BtO5TR2I",
        "colab_type": "code",
        "colab": {}
      },
      "cell_type": "code",
      "source": [
        "y_train = y_train.astype('float32')\n",
        "y_test = y_test.astype('float32')"
      ],
      "execution_count": 0,
      "outputs": []
    },
    {
      "metadata": {
        "id": "uqfTk3ckTdPV",
        "colab_type": "code",
        "colab": {
          "base_uri": "https://localhost:8080/",
          "height": 35
        },
        "outputId": "a715acec-49a5-4295-fa25-7d70cbbf61d0"
      },
      "cell_type": "code",
      "source": [
        "y_train.dtype,y_test.dtype"
      ],
      "execution_count": 55,
      "outputs": [
        {
          "output_type": "execute_result",
          "data": {
            "text/plain": [
              "(dtype('float32'), dtype('float32'))"
            ]
          },
          "metadata": {
            "tags": []
          },
          "execution_count": 55
        }
      ]
    },
    {
      "metadata": {
        "id": "MYl3oU60TqOa",
        "colab_type": "code",
        "colab": {
          "base_uri": "https://localhost:8080/",
          "height": 5564
        },
        "outputId": "f9caea21-c101-4580-f5ab-74fda0631d1a"
      },
      "cell_type": "code",
      "source": [
        "y_train"
      ],
      "execution_count": 56,
      "outputs": [
        {
          "output_type": "execute_result",
          "data": {
            "text/plain": [
              "array([[33.],\n",
              "       [ 6.],\n",
              "       [ 5.],\n",
              "       [10.],\n",
              "       [30.],\n",
              "       [22.],\n",
              "       [12.],\n",
              "       [37.],\n",
              "       [39.],\n",
              "       [32.],\n",
              "       [38.],\n",
              "       [25.],\n",
              "       [ 5.],\n",
              "       [ 0.],\n",
              "       [19.],\n",
              "       [14.],\n",
              "       [13.],\n",
              "       [39.],\n",
              "       [26.],\n",
              "       [36.],\n",
              "       [25.],\n",
              "       [ 6.],\n",
              "       [31.],\n",
              "       [15.],\n",
              "       [28.],\n",
              "       [34.],\n",
              "       [ 8.],\n",
              "       [34.],\n",
              "       [15.],\n",
              "       [29.],\n",
              "       [ 9.],\n",
              "       [ 8.],\n",
              "       [29.],\n",
              "       [ 2.],\n",
              "       [36.],\n",
              "       [21.],\n",
              "       [25.],\n",
              "       [ 4.],\n",
              "       [23.],\n",
              "       [34.],\n",
              "       [ 9.],\n",
              "       [22.],\n",
              "       [23.],\n",
              "       [23.],\n",
              "       [37.],\n",
              "       [14.],\n",
              "       [ 2.],\n",
              "       [25.],\n",
              "       [35.],\n",
              "       [16.],\n",
              "       [15.],\n",
              "       [39.],\n",
              "       [ 6.],\n",
              "       [24.],\n",
              "       [21.],\n",
              "       [10.],\n",
              "       [31.],\n",
              "       [19.],\n",
              "       [32.],\n",
              "       [ 1.],\n",
              "       [16.],\n",
              "       [18.],\n",
              "       [ 3.],\n",
              "       [11.],\n",
              "       [26.],\n",
              "       [10.],\n",
              "       [35.],\n",
              "       [24.],\n",
              "       [23.],\n",
              "       [11.],\n",
              "       [33.],\n",
              "       [12.],\n",
              "       [28.],\n",
              "       [11.],\n",
              "       [21.],\n",
              "       [13.],\n",
              "       [27.],\n",
              "       [12.],\n",
              "       [19.],\n",
              "       [29.],\n",
              "       [28.],\n",
              "       [13.],\n",
              "       [ 3.],\n",
              "       [37.],\n",
              "       [16.],\n",
              "       [ 3.],\n",
              "       [23.],\n",
              "       [ 9.],\n",
              "       [ 8.],\n",
              "       [ 6.],\n",
              "       [16.],\n",
              "       [28.],\n",
              "       [20.],\n",
              "       [39.],\n",
              "       [23.],\n",
              "       [28.],\n",
              "       [10.],\n",
              "       [ 4.],\n",
              "       [32.],\n",
              "       [39.],\n",
              "       [22.],\n",
              "       [ 7.],\n",
              "       [13.],\n",
              "       [38.],\n",
              "       [22.],\n",
              "       [21.],\n",
              "       [ 2.],\n",
              "       [18.],\n",
              "       [36.],\n",
              "       [27.],\n",
              "       [ 5.],\n",
              "       [32.],\n",
              "       [35.],\n",
              "       [ 2.],\n",
              "       [ 0.],\n",
              "       [21.],\n",
              "       [15.],\n",
              "       [21.],\n",
              "       [37.],\n",
              "       [22.],\n",
              "       [13.],\n",
              "       [23.],\n",
              "       [21.],\n",
              "       [27.],\n",
              "       [27.],\n",
              "       [30.],\n",
              "       [23.],\n",
              "       [ 3.],\n",
              "       [20.],\n",
              "       [39.],\n",
              "       [ 6.],\n",
              "       [ 2.],\n",
              "       [33.],\n",
              "       [ 4.],\n",
              "       [24.],\n",
              "       [12.],\n",
              "       [ 9.],\n",
              "       [11.],\n",
              "       [16.],\n",
              "       [38.],\n",
              "       [38.],\n",
              "       [34.],\n",
              "       [ 4.],\n",
              "       [ 1.],\n",
              "       [28.],\n",
              "       [ 7.],\n",
              "       [24.],\n",
              "       [39.],\n",
              "       [ 7.],\n",
              "       [ 1.],\n",
              "       [36.],\n",
              "       [21.],\n",
              "       [38.],\n",
              "       [38.],\n",
              "       [22.],\n",
              "       [16.],\n",
              "       [10.],\n",
              "       [16.],\n",
              "       [ 8.],\n",
              "       [18.],\n",
              "       [39.],\n",
              "       [11.],\n",
              "       [25.],\n",
              "       [18.],\n",
              "       [20.],\n",
              "       [37.],\n",
              "       [11.],\n",
              "       [14.],\n",
              "       [15.],\n",
              "       [15.],\n",
              "       [ 1.],\n",
              "       [26.],\n",
              "       [ 7.],\n",
              "       [10.],\n",
              "       [32.],\n",
              "       [20.],\n",
              "       [31.],\n",
              "       [13.],\n",
              "       [23.],\n",
              "       [31.],\n",
              "       [24.],\n",
              "       [30.],\n",
              "       [ 1.],\n",
              "       [22.],\n",
              "       [30.],\n",
              "       [ 0.],\n",
              "       [27.],\n",
              "       [12.],\n",
              "       [ 7.],\n",
              "       [18.],\n",
              "       [30.],\n",
              "       [37.],\n",
              "       [34.],\n",
              "       [18.],\n",
              "       [35.],\n",
              "       [ 8.],\n",
              "       [25.],\n",
              "       [ 1.],\n",
              "       [29.],\n",
              "       [ 8.],\n",
              "       [26.],\n",
              "       [ 3.],\n",
              "       [38.],\n",
              "       [ 5.],\n",
              "       [ 4.],\n",
              "       [27.],\n",
              "       [ 5.],\n",
              "       [20.],\n",
              "       [31.],\n",
              "       [31.],\n",
              "       [33.],\n",
              "       [12.],\n",
              "       [22.],\n",
              "       [ 6.],\n",
              "       [30.],\n",
              "       [13.],\n",
              "       [18.],\n",
              "       [ 2.],\n",
              "       [ 4.],\n",
              "       [ 0.],\n",
              "       [20.],\n",
              "       [33.],\n",
              "       [ 9.],\n",
              "       [38.],\n",
              "       [17.],\n",
              "       [25.],\n",
              "       [ 9.],\n",
              "       [36.],\n",
              "       [ 9.],\n",
              "       [35.],\n",
              "       [16.],\n",
              "       [ 6.],\n",
              "       [30.],\n",
              "       [ 4.],\n",
              "       [20.],\n",
              "       [27.],\n",
              "       [22.],\n",
              "       [14.],\n",
              "       [14.],\n",
              "       [18.],\n",
              "       [13.],\n",
              "       [35.],\n",
              "       [39.],\n",
              "       [26.],\n",
              "       [32.],\n",
              "       [20.],\n",
              "       [ 8.],\n",
              "       [12.],\n",
              "       [34.],\n",
              "       [36.],\n",
              "       [ 9.],\n",
              "       [ 8.],\n",
              "       [26.],\n",
              "       [11.],\n",
              "       [29.],\n",
              "       [ 5.],\n",
              "       [32.],\n",
              "       [25.],\n",
              "       [35.],\n",
              "       [ 4.],\n",
              "       [10.],\n",
              "       [36.],\n",
              "       [27.],\n",
              "       [35.],\n",
              "       [ 3.],\n",
              "       [ 5.],\n",
              "       [34.],\n",
              "       [12.],\n",
              "       [29.],\n",
              "       [ 2.],\n",
              "       [18.],\n",
              "       [16.],\n",
              "       [15.],\n",
              "       [24.],\n",
              "       [20.],\n",
              "       [ 3.],\n",
              "       [ 3.],\n",
              "       [12.],\n",
              "       [18.],\n",
              "       [37.],\n",
              "       [28.],\n",
              "       [36.],\n",
              "       [14.],\n",
              "       [28.],\n",
              "       [37.],\n",
              "       [17.],\n",
              "       [ 9.],\n",
              "       [33.],\n",
              "       [33.],\n",
              "       [19.],\n",
              "       [24.],\n",
              "       [11.],\n",
              "       [26.],\n",
              "       [ 7.],\n",
              "       [33.],\n",
              "       [ 2.],\n",
              "       [16.],\n",
              "       [33.],\n",
              "       [38.],\n",
              "       [17.],\n",
              "       [38.],\n",
              "       [ 3.],\n",
              "       [19.],\n",
              "       [31.],\n",
              "       [ 8.],\n",
              "       [ 7.],\n",
              "       [ 8.],\n",
              "       [29.],\n",
              "       [24.],\n",
              "       [27.],\n",
              "       [21.],\n",
              "       [ 0.],\n",
              "       [35.],\n",
              "       [19.],\n",
              "       [25.],\n",
              "       [32.],\n",
              "       [19.],\n",
              "       [11.],\n",
              "       [ 4.],\n",
              "       [17.]], dtype=float32)"
            ]
          },
          "metadata": {
            "tags": []
          },
          "execution_count": 56
        }
      ]
    },
    {
      "metadata": {
        "id": "aw5YadZCT3HW",
        "colab_type": "code",
        "colab": {
          "base_uri": "https://localhost:8080/",
          "height": 35
        },
        "outputId": "cd70a337-6849-43d3-cf74-fabd53b601c5"
      },
      "cell_type": "code",
      "source": [
        "from keras.utils import np_utils\n",
        "y_train = np_utils.to_categorical(y_train, 80)\n",
        "y_test = np_utils.to_categorical(y_test, 80)"
      ],
      "execution_count": 58,
      "outputs": [
        {
          "output_type": "stream",
          "text": [
            "Using TensorFlow backend.\n"
          ],
          "name": "stderr"
        }
      ]
    },
    {
      "metadata": {
        "id": "0qi2lwMPUVCf",
        "colab_type": "code",
        "colab": {
          "base_uri": "https://localhost:8080/",
          "height": 139
        },
        "outputId": "1aa8af23-8282-440a-b83a-7686fd11de37"
      },
      "cell_type": "code",
      "source": [
        "y_train"
      ],
      "execution_count": 59,
      "outputs": [
        {
          "output_type": "execute_result",
          "data": {
            "text/plain": [
              "array([[0., 0., 0., ..., 0., 0., 0.],\n",
              "       [0., 0., 0., ..., 0., 0., 0.],\n",
              "       [0., 0., 0., ..., 0., 0., 0.],\n",
              "       ...,\n",
              "       [0., 0., 0., ..., 0., 0., 0.],\n",
              "       [0., 0., 0., ..., 0., 0., 0.],\n",
              "       [0., 0., 0., ..., 0., 0., 0.]], dtype=float32)"
            ]
          },
          "metadata": {
            "tags": []
          },
          "execution_count": 59
        }
      ]
    },
    {
      "metadata": {
        "id": "fPNoIAhhUqjH",
        "colab_type": "code",
        "colab": {
          "base_uri": "https://localhost:8080/",
          "height": 104
        },
        "outputId": "336bb500-df53-4b24-9668-0cceac285508"
      },
      "cell_type": "code",
      "source": [
        "y_train[0]"
      ],
      "execution_count": 61,
      "outputs": [
        {
          "output_type": "execute_result",
          "data": {
            "text/plain": [
              "array([0., 0., 0., 0., 0., 0., 0., 0., 0., 0., 0., 0., 0., 0., 0., 0., 0.,\n",
              "       0., 0., 0., 0., 0., 0., 0., 0., 0., 0., 0., 0., 0., 0., 0., 0., 1.,\n",
              "       0., 0., 0., 0., 0., 0., 0., 0., 0., 0., 0., 0., 0., 0., 0., 0., 0.,\n",
              "       0., 0., 0., 0., 0., 0., 0., 0., 0., 0., 0., 0., 0., 0., 0., 0., 0.,\n",
              "       0., 0., 0., 0., 0., 0., 0., 0., 0., 0., 0., 0.], dtype=float32)"
            ]
          },
          "metadata": {
            "tags": []
          },
          "execution_count": 61
        }
      ]
    },
    {
      "metadata": {
        "id": "KQcsrw0TV-3A",
        "colab_type": "code",
        "colab": {}
      },
      "cell_type": "code",
      "source": [
        "learning_rate = 0.01\n",
        "training_epochs = 200\n",
        "display_step = 30"
      ],
      "execution_count": 0,
      "outputs": []
    },
    {
      "metadata": {
        "id": "JtcRTN-Plwrj",
        "colab_type": "code",
        "colab": {}
      },
      "cell_type": "code",
      "source": [
        "x = tf.placeholder(tf.float32,[None,4096])\n",
        "Y = tf.placeholder(tf.float32,[None,80])"
      ],
      "execution_count": 0,
      "outputs": []
    },
    {
      "metadata": {
        "id": "qExGTNQFpunH",
        "colab_type": "code",
        "colab": {}
      },
      "cell_type": "code",
      "source": [
        "w = tf.Variable(tf.zeros([4096,80]))\n",
        "b = tf.Variable(tf.zeros([80]))"
      ],
      "execution_count": 0,
      "outputs": []
    },
    {
      "metadata": {
        "id": "1vgKsd0PqfxY",
        "colab_type": "code",
        "colab": {}
      },
      "cell_type": "code",
      "source": [
        "logits = tf.matmul(x,w) + b"
      ],
      "execution_count": 0,
      "outputs": []
    },
    {
      "metadata": {
        "id": "l52a-OCHrGOZ",
        "colab_type": "code",
        "colab": {}
      },
      "cell_type": "code",
      "source": [
        "y_pred = tf.nn.softmax(logits)"
      ],
      "execution_count": 0,
      "outputs": []
    },
    {
      "metadata": {
        "id": "qTZRxvEar5-H",
        "colab_type": "code",
        "colab": {}
      },
      "cell_type": "code",
      "source": [
        "cross_entropy = tf.nn.softmax_cross_entropy_with_logits_v2(logits = logits, labels = Y)\n"
      ],
      "execution_count": 0,
      "outputs": []
    },
    {
      "metadata": {
        "id": "pezRBaJntWQH",
        "colab_type": "code",
        "colab": {}
      },
      "cell_type": "code",
      "source": [
        "cost = tf.reduce_mean(cross_entropy)"
      ],
      "execution_count": 0,
      "outputs": []
    },
    {
      "metadata": {
        "id": "SHtUVIjE5HNI",
        "colab_type": "code",
        "colab": {}
      },
      "cell_type": "code",
      "source": [
        "optimizer = tf.train.GradientDescentOptimizer(learning_rate).minimize(cost)"
      ],
      "execution_count": 0,
      "outputs": []
    },
    {
      "metadata": {
        "id": "5MTAIca6TU0r",
        "colab_type": "code",
        "colab": {}
      },
      "cell_type": "code",
      "source": [
        "correct_prediction = tf.equal(tf.argmax(y_pred, 1), tf.argmax(Y, 1))\n",
        "\n",
        "#with tf.name_scope('accuracy'):\n",
        "accuracy = tf.reduce_mean(tf.cast(correct_prediction, tf.float32))"
      ],
      "execution_count": 0,
      "outputs": []
    },
    {
      "metadata": {
        "id": "D6QphwB4WVUZ",
        "colab_type": "code",
        "colab": {}
      },
      "cell_type": "code",
      "source": [
        "init = tf.global_variables_initializer()"
      ],
      "execution_count": 0,
      "outputs": []
    },
    {
      "metadata": {
        "id": "G9aVtHZR5z2g",
        "colab_type": "code",
        "colab": {
          "base_uri": "https://localhost:8080/",
          "height": 399
        },
        "outputId": "bb9201d2-b9ee-473a-8ba1-c5d1101774df"
      },
      "cell_type": "code",
      "source": [
        "with tf.Session() as sess:\n",
        "    sess.run(init)\n",
        "    accuracy_train = []\n",
        "    accuracy_test = []\n",
        "\n",
        "\n",
        "    for epoch in range(training_epochs):\n",
        "\n",
        "     idx = np.random.permutation(X_train.shape[0])\n",
        "     for i in idx: \n",
        "        c,pop =  sess.run([cost,optimizer], feed_dict={x: X_train[i:i+1],Y: y_train[i:i+1]})\n",
        "         \n",
        "     if (epoch+1) % display_step == 0:\n",
        "            print (\"Epoch:\", '%04d' % (epoch+1), \"cost=\", \"{:.9f}\".format(c))\n",
        "          #  accuracy_train.append(accuracy.eval({x: X_train, y: y_train}))\n",
        "          #  accuracy_test.append(accuracy.eval({x: X_test, y: y_test}))\n",
        "          #  s = sess.run(merged_summary, feed_dict={x: X_train, y: y_train})\n",
        "           # writer.add_summary(s, epoch)\n",
        "\n",
        "    print (\"completely Optimized!\")\n",
        "    print (\"Your model Accuracy is:\", accuracy.eval({x: X_test, Y: y_test}))"
      ],
      "execution_count": 116,
      "outputs": [
        {
          "output_type": "stream",
          "text": [
            "Epoch: 0010 cost= 0.000867229\n",
            "Epoch: 0020 cost= 0.012397371\n",
            "Epoch: 0030 cost= 0.001987150\n",
            "Epoch: 0040 cost= 0.005097962\n",
            "Epoch: 0050 cost= 0.002165356\n",
            "Epoch: 0060 cost= 0.004232853\n",
            "Epoch: 0070 cost= 0.006835884\n",
            "Epoch: 0080 cost= 0.024154665\n",
            "Epoch: 0090 cost= 0.005661287\n",
            "Epoch: 0100 cost= 0.000259008\n",
            "Epoch: 0110 cost= 0.001114820\n",
            "Epoch: 0120 cost= 0.002526546\n",
            "Epoch: 0130 cost= 0.000412260\n",
            "Epoch: 0140 cost= 0.000218725\n",
            "Epoch: 0150 cost= 0.000095482\n",
            "Epoch: 0160 cost= 0.001039561\n",
            "Epoch: 0170 cost= 0.031308461\n",
            "Epoch: 0180 cost= 0.000566441\n",
            "Epoch: 0190 cost= 0.000612191\n",
            "Epoch: 0200 cost= 0.000075933\n",
            "completely Optimized!\n",
            "Your model Accuracy is: 0.9625\n"
          ],
          "name": "stdout"
        }
      ]
    }
  ]
}